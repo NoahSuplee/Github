{
 "cells": [
  {
   "cell_type": "markdown",
   "metadata": {},
   "source": [
    "Algorithm here:"
   ]
  },
  {
   "cell_type": "code",
   "execution_count": 1,
   "metadata": {},
   "outputs": [
    {
     "name": "stdin",
     "output_type": "stream",
     "text": [
      "Enter your full name:  Noah Andris Suplee\n",
      "Enter the year you were born:  2005\n"
     ]
    },
    {
     "name": "stdout",
     "output_type": "stream",
     "text": [
      "Noah A. Suplee: living large since 2005\n",
      "Your full name contains 16 characters -excluding spaces.\n"
     ]
    }
   ],
   "source": [
    "#    Create Function that creates abbreviated name and message from user \n",
    "_name = input(\"Enter your full name: \")\n",
    "_year = input(\"Enter the year you were born: \")\n",
    "import keyword\n",
    "keywords=keyword.kwlist\n",
    "def change_name(full_name, birth_year):\n",
    "  name=full_name.split()\n",
    "  name_1=name[1]\n",
    "  name_2=name_1[0]\n",
    "  name_3=name[0]\n",
    "  name_4=name[2]\n",
    "  hi=name_3+ \" \" + name_2 + \". \" + name_4\n",
    "  print(hi+ \": \" + \"living large since \"+ _year)\n",
    "  length=len(name_3)\n",
    "  length_1=len(name_4)\n",
    "  length_2=len(name_1)\n",
    "  total_length=length +length_1 + length_2\n",
    "  print (\"Your full name contains \"+ str(total_length) + \" characters -excluding spaces.\")\n",
    "\n",
    "  \n",
    " \n",
    "\n",
    "\n",
    "change_name(_name, _year)"
   ]
  },
  {
   "cell_type": "markdown",
   "metadata": {},
   "source": [
    "This code will take a name and the year you were born and will convert it into a string"
   ]
  },
  {
   "cell_type": "code",
   "execution_count": null,
   "metadata": {},
   "outputs": [],
   "source": []
  }
 ],
 "metadata": {
  "kernelspec": {
   "display_name": "Python 3",
   "language": "python",
   "name": "python3"
  },
  "language_info": {
   "codemirror_mode": {
    "name": "ipython",
    "version": 3
   },
   "file_extension": ".py",
   "mimetype": "text/x-python",
   "name": "python",
   "nbconvert_exporter": "python",
   "pygments_lexer": "ipython3",
   "version": "3.7.3"
  }
 },
 "nbformat": 4,
 "nbformat_minor": 2
}
